{
 "cells": [
  {
   "cell_type": "code",
   "execution_count": 74,
   "metadata": {},
   "outputs": [],
   "source": [
    "import os\n",
    "import glob\n",
    "import pandas as pd\n",
    "import datetime as dt\n",
    "import re"
   ]
  },
  {
   "cell_type": "code",
   "execution_count": 93,
   "metadata": {},
   "outputs": [],
   "source": [
    "extension = 'csv'\n",
    "\n",
    "all_filenames = [i for i in glob.glob('*.{}'.format(extension))]\n",
    "\n",
    "name_string = 'CAISO-co2-per-resource-20191216.csv'\n",
    "df = pd.read_csv(all_filenames[0])\n",
    "datetime = []\n",
    "for i in df.columns:\n",
    "    next_datetime = date + \" \" + i\n",
    "    datetime.append(next_datetime)\n",
    "df = df.T\n",
    "df = df.rename(columns = df.iloc[0])\n",
    "\n",
    "res = re.split('-', all_filenames[0])\n",
    "date = res[4][0:8]    \n",
    "df = df.iloc[1:]\n",
    "for i in df.columns:\n",
    "    next_datetime = date + \" \" + i\n",
    "    datetime.append(next_datetime)\n",
    "datetime = datetime[1:289]\n",
    "\n",
    "df['Datetime'] = datetime\n",
    "df.index = df['Datetime']\n",
    "df.drop(columns = ['Datetime'], inplace = True)\n",
    "\n",
    "for f in all_filenames:\n",
    "    datetime = []\n",
    "    res = re.split('-', f)\n",
    "    date = res[4][0:8]    \n",
    "    df_i = pd.read_csv(f)\n",
    "    for i in df_i.columns:\n",
    "        next_datetime = date + \" \" + i\n",
    "        datetime.append(next_datetime)\n",
    "    datetime = datetime[1:]\n",
    "    df_i = df_i.T\n",
    "    df_i = df_i.rename(columns = df_i.iloc[0])\n",
    "    df_i = df_i.iloc[1:]\n",
    "    df_i['Datetime'] = datetime\n",
    "    df_i.index = df_i['Datetime']\n",
    "    df_i.drop(columns = 'Datetime', inplace = True)\n",
    "    df = df.append(df_i)\n",
    "df.index = pd.to_datetime(df.index)\n",
    "df = df.sort_index()"
   ]
  },
  {
   "cell_type": "code",
   "execution_count": 97,
   "metadata": {},
   "outputs": [],
   "source": []
  },
  {
   "cell_type": "code",
   "execution_count": 101,
   "metadata": {},
   "outputs": [],
   "source": [
    "\n"
   ]
  },
  {
   "cell_type": "code",
   "execution_count": 104,
   "metadata": {},
   "outputs": [],
   "source": [
    "df.to_csv('CO2-per-resource-2019.csv')"
   ]
  },
  {
   "cell_type": "code",
   "execution_count": null,
   "metadata": {},
   "outputs": [],
   "source": []
  }
 ],
 "metadata": {
  "kernelspec": {
   "display_name": "Python 3",
   "language": "python",
   "name": "python3"
  },
  "language_info": {
   "codemirror_mode": {
    "name": "ipython",
    "version": 3
   },
   "file_extension": ".py",
   "mimetype": "text/x-python",
   "name": "python",
   "nbconvert_exporter": "python",
   "pygments_lexer": "ipython3",
   "version": "3.6.8"
  }
 },
 "nbformat": 4,
 "nbformat_minor": 2
}
