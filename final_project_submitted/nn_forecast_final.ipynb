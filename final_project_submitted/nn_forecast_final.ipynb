{
 "cells": [
  {
   "cell_type": "code",
   "execution_count": 1,
   "metadata": {},
   "outputs": [
    {
     "name": "stderr",
     "output_type": "stream",
     "text": [
      "Using TensorFlow backend.\n"
     ]
    }
   ],
   "source": [
    "import pandas as pd\n",
    "from keras.models import Sequential\n",
    "from keras.layers import Dense\n",
    "from keras.wrappers.scikit_learn import KerasRegressor\n",
    "from sklearn.model_selection import cross_val_score\n",
    "from sklearn.model_selection import KFold\n",
    "from sklearn.preprocessing import StandardScaler\n",
    "from sklearn.pipeline import Pipeline\n",
    "from tensorflow.keras import Sequential\n",
    "from tensorflow.keras.layers import Conv2D, Flatten, Dense"
   ]
  },
  {
   "cell_type": "code",
   "execution_count": 1,
   "metadata": {},
   "outputs": [],
   "source": [
    "from sklearn.neural_network import MLPRegressor\n",
    "from sklearn.linear_model import Ridge\n",
    "from mpl_toolkits.mplot3d import Axes3D\n",
    "import numpy as np\n",
    "from sklearn.datasets import make_regression\n",
    "from sklearn import metrics\n",
    "import matplotlib.pyplot as plt\n",
    "from sklearn.metrics import mean_squared_error\n",
    "from sklearn.metrics import r2_score\n",
    "from sklearn.model_selection import train_test_split"
   ]
  },
  {
   "cell_type": "code",
   "execution_count": 28,
   "metadata": {},
   "outputs": [
    {
     "data": {
      "text/plain": [
       "(203616, 12)"
      ]
     },
     "execution_count": 28,
     "metadata": {},
     "output_type": "execute_result"
    }
   ],
   "source": [
    "# Import data\n",
    "X = pd.read_csv('Data Processing Scripts/X_matrix_fc.csv', header = None)\n",
    "X.head()\n",
    "y = pd.read_csv('Data Processing Scripts/y_vec_fc.csv', header = None)\n",
    "y.head()\n",
    "X.shape"
   ]
  },
  {
   "cell_type": "code",
   "execution_count": 4,
   "metadata": {},
   "outputs": [],
   "source": [
    "# Forecast problem, split data into first half(May 2018 - May 2019) and second half(The rest)\n",
    "X_train = X[X.iloc[:, 0] < \"2019-05-01 00:00:00\"]\n",
    "X_train = X_train.drop(X_train.columns[0], axis=1)\n",
    "y_train = y.head(104832)\n",
    "X_other = X[X.iloc[:, 0] >= \"2019-05-01 00:00:00\"]\n",
    "X_other = X_other.drop(X_other.columns[0], axis=1)\n",
    "y_other = y[104832:]\n",
    "X_test, X_val, y_test, y_val = train_test_split(X_other, y_other, test_size=0.5, random_state=42)"
   ]
  },
  {
   "cell_type": "code",
   "execution_count": 5,
   "metadata": {},
   "outputs": [
    {
     "name": "stderr",
     "output_type": "stream",
     "text": [
      "C:\\Users\\admin\\Anaconda3\\lib\\site-packages\\sklearn\\preprocessing\\data.py:645: DataConversionWarning: Data with input dtype int64, float64 were all converted to float64 by StandardScaler.\n",
      "  return self.partial_fit(X, y)\n",
      "C:\\Users\\admin\\Anaconda3\\lib\\site-packages\\sklearn\\base.py:464: DataConversionWarning: Data with input dtype int64, float64 were all converted to float64 by StandardScaler.\n",
      "  return self.fit(X, **fit_params).transform(X)\n",
      "C:\\Users\\admin\\Anaconda3\\lib\\site-packages\\sklearn\\preprocessing\\data.py:645: DataConversionWarning: Data with input dtype int64, float64 were all converted to float64 by StandardScaler.\n",
      "  return self.partial_fit(X, y)\n",
      "C:\\Users\\admin\\Anaconda3\\lib\\site-packages\\sklearn\\base.py:464: DataConversionWarning: Data with input dtype int64, float64 were all converted to float64 by StandardScaler.\n",
      "  return self.fit(X, **fit_params).transform(X)\n",
      "C:\\Users\\admin\\Anaconda3\\lib\\site-packages\\sklearn\\preprocessing\\data.py:645: DataConversionWarning: Data with input dtype int64, float64 were all converted to float64 by StandardScaler.\n",
      "  return self.partial_fit(X, y)\n",
      "C:\\Users\\admin\\Anaconda3\\lib\\site-packages\\sklearn\\base.py:464: DataConversionWarning: Data with input dtype int64, float64 were all converted to float64 by StandardScaler.\n",
      "  return self.fit(X, **fit_params).transform(X)\n"
     ]
    }
   ],
   "source": [
    "# Normalize the data\n",
    "scaler = StandardScaler()\n",
    "X_train_norm = scaler.fit_transform(X_train)\n",
    "X_test_norm = scaler.fit_transform(X_test)\n",
    "X_val_norm = scaler.fit_transform(X_val)"
   ]
  },
  {
   "cell_type": "markdown",
   "metadata": {},
   "source": [
    "## ReLu\n",
    "### One layer"
   ]
  },
  {
   "cell_type": "code",
   "execution_count": 6,
   "metadata": {},
   "outputs": [
    {
     "name": "stdout",
     "output_type": "stream",
     "text": [
      "Epoch 1/10\n",
      "10484/10484 [==============================] - 10s 983us/step - loss: 0.0154\n",
      "Epoch 2/10\n",
      "10484/10484 [==============================] - 10s 992us/step - loss: 0.0015\n",
      "Epoch 3/10\n",
      "10484/10484 [==============================] - 11s 1ms/step - loss: 0.0015\n",
      "Epoch 4/10\n",
      "10484/10484 [==============================] - 10s 994us/step - loss: 0.0014\n",
      "Epoch 5/10\n",
      "10484/10484 [==============================] - 11s 1ms/step - loss: 0.0014\n",
      "Epoch 6/10\n",
      "10484/10484 [==============================] - 11s 1ms/step - loss: 0.0014\n",
      "Epoch 7/10\n",
      "10484/10484 [==============================] - 11s 1ms/step - loss: 0.0014\n",
      "Epoch 8/10\n",
      "10484/10484 [==============================] - 11s 1ms/step - loss: 0.0014\n",
      "Epoch 9/10\n",
      "10484/10484 [==============================] - 10s 999us/step - loss: 0.0014\n",
      "Epoch 10/10\n",
      "10484/10484 [==============================] - 10s 1ms/step - loss: 0.0014\n",
      "ANN Mean squared error: 0.002613598\n",
      "ANN Coefficient of determination: 0.548481208\n"
     ]
    }
   ],
   "source": [
    "# Initialising the ANN\n",
    "model = Sequential()\n",
    "\n",
    "# Adding the input layer and the first hidden layer\n",
    "model.add(Dense(6, activation = 'relu', input_dim = 11))\n",
    "\n",
    "# Adding the output layer\n",
    "model.add(Dense(units = 1))\n",
    "model.compile(optimizer = 'adam',loss = 'mean_squared_error')\n",
    "model.fit(X_train_norm, y_train, batch_size = 10, epochs = 10)\n",
    "y_pred = model.predict(X_test_norm)\n",
    "print('ANN Mean squared error: %.9f' % mean_squared_error(y_test, y_pred))\n",
    "print('ANN Coefficient of determination: %.9f' % r2_score(y_test, y_pred))"
   ]
  },
  {
   "cell_type": "markdown",
   "metadata": {},
   "source": [
    "### Two layers"
   ]
  },
  {
   "cell_type": "code",
   "execution_count": 8,
   "metadata": {},
   "outputs": [
    {
     "name": "stdout",
     "output_type": "stream",
     "text": [
      "Epoch 1/10\n",
      "10484/10484 [==============================] - 17s 2ms/step - loss: 0.0041\n",
      "Epoch 2/10\n",
      "10484/10484 [==============================] - 14s 1ms/step - loss: 0.0015\n",
      "Epoch 3/10\n",
      "10484/10484 [==============================] - 13s 1ms/step - loss: 0.0014\n",
      "Epoch 4/10\n",
      "10484/10484 [==============================] - 14s 1ms/step - loss: 0.0014\n",
      "Epoch 5/10\n",
      "10484/10484 [==============================] - 16s 2ms/step - loss: 0.0014\n",
      "Epoch 6/10\n",
      "10484/10484 [==============================] - 24s 2ms/step - loss: 0.0014\n",
      "Epoch 7/10\n",
      "10484/10484 [==============================] - 20s 2ms/step - loss: 0.0014\n",
      "Epoch 8/10\n",
      "10484/10484 [==============================] - 16s 2ms/step - loss: 0.0014\n",
      "Epoch 9/10\n",
      "10484/10484 [==============================] - 15s 1ms/step - loss: 0.0014\n",
      "Epoch 10/10\n",
      "10484/10484 [==============================] - 12s 1ms/step - loss: 0.0014\n",
      "ANN Mean squared error: 0.002770267\n",
      "ANN Coefficient of determination: 0.521415360\n"
     ]
    }
   ],
   "source": [
    "# Initialising the ANN\n",
    "model = Sequential()\n",
    "\n",
    "# Adding the input layer and the first hidden layer\n",
    "model.add(Dense(6, activation = 'relu', input_dim = 11))\n",
    "\n",
    "# Adding the second hidden layer\n",
    "model.add(Dense(units = 6, activation = 'relu'))\n",
    "\n",
    "# Adding the output layer\n",
    "model.add(Dense(units = 1))\n",
    "\n",
    "model.compile(optimizer = 'adam',loss = 'mean_squared_error')\n",
    "\n",
    "model.fit(X_train_norm, y_train, batch_size = 10, epochs = 10)\n",
    "\n",
    "y_pred = model.predict(X_test_norm)\n",
    "\n",
    "print('ANN Mean squared error: %.9f' % mean_squared_error(y_test, y_pred))\n",
    "print('ANN Coefficient of determination: %.9f' % r2_score(y_test, y_pred))"
   ]
  },
  {
   "cell_type": "markdown",
   "metadata": {},
   "source": [
    "### Three layers"
   ]
  },
  {
   "cell_type": "code",
   "execution_count": 9,
   "metadata": {},
   "outputs": [
    {
     "name": "stdout",
     "output_type": "stream",
     "text": [
      "Epoch 1/10\n",
      "10484/10484 [==============================] - 12s 1ms/step - loss: 0.0040\n",
      "Epoch 2/10\n",
      "10484/10484 [==============================] - 12s 1ms/step - loss: 0.0014\n",
      "Epoch 3/10\n",
      "10484/10484 [==============================] - 12s 1ms/step - loss: 0.0014\n",
      "Epoch 4/10\n",
      "10484/10484 [==============================] - 12s 1ms/step - loss: 0.0014\n",
      "Epoch 5/10\n",
      "10484/10484 [==============================] - 11s 1ms/step - loss: 0.0013\n",
      "Epoch 6/10\n",
      "10484/10484 [==============================] - 11s 1ms/step - loss: 0.0013\n",
      "Epoch 7/10\n",
      "10484/10484 [==============================] - 11s 1ms/step - loss: 0.0013\n",
      "Epoch 8/10\n",
      "10484/10484 [==============================] - 13s 1ms/step - loss: 0.0013\n",
      "Epoch 9/10\n",
      "10484/10484 [==============================] - 15s 1ms/step - loss: 0.0013\n",
      "Epoch 10/10\n",
      "10484/10484 [==============================] - 19s 2ms/step - loss: 0.0013\n",
      "ANN Mean squared error: 0.002685394\n",
      "ANN Coefficient of determination: 0.536077819\n"
     ]
    }
   ],
   "source": [
    "# Initialising the ANN\n",
    "model = Sequential()\n",
    "\n",
    "# Adding the input layer and the first hidden layer\n",
    "model.add(Dense(6, activation = 'relu', input_dim = 11))\n",
    "\n",
    "# Adding the second hidden layer\n",
    "model.add(Dense(units = 6, activation = 'relu'))\n",
    "\n",
    "# Adding the third hidden layer\n",
    "model.add(Dense(units = 6, activation = 'relu'))\n",
    "\n",
    "# Adding the output layer\n",
    "model.add(Dense(units = 1))\n",
    "\n",
    "model.compile(optimizer = 'adam',loss = 'mean_squared_error')\n",
    "\n",
    "model.fit(X_train_norm, y_train, batch_size = 10, epochs = 10)\n",
    "\n",
    "y_pred = model.predict(X_test_norm)\n",
    "\n",
    "print('ANN Mean squared error: %.9f' % mean_squared_error(y_test, y_pred))\n",
    "print('ANN Coefficient of determination: %.9f' % r2_score(y_test, y_pred))"
   ]
  },
  {
   "cell_type": "markdown",
   "metadata": {},
   "source": [
    "### Four layers"
   ]
  },
  {
   "cell_type": "code",
   "execution_count": 10,
   "metadata": {},
   "outputs": [
    {
     "name": "stdout",
     "output_type": "stream",
     "text": [
      "Epoch 1/10\n",
      "10484/10484 [==============================] - 26s 2ms/step - loss: 0.0035\n",
      "Epoch 2/10\n",
      "10484/10484 [==============================] - 15s 1ms/step - loss: 0.0014\n",
      "Epoch 3/10\n",
      "10484/10484 [==============================] - 13s 1ms/step - loss: 0.0013\n",
      "Epoch 4/10\n",
      "10484/10484 [==============================] - 12s 1ms/step - loss: 0.0013\n",
      "Epoch 5/10\n",
      "10484/10484 [==============================] - 12s 1ms/step - loss: 0.0013\n",
      "Epoch 6/10\n",
      "10484/10484 [==============================] - 13s 1ms/step - loss: 0.0013\n",
      "Epoch 7/10\n",
      "10484/10484 [==============================] - 16s 2ms/step - loss: 0.0013\n",
      "Epoch 8/10\n",
      "10484/10484 [==============================] - 14s 1ms/step - loss: 0.0013: 0s - loss\n",
      "Epoch 9/10\n",
      "10484/10484 [==============================] - 14s 1ms/step - loss: 0.0013\n",
      "Epoch 10/10\n",
      "10484/10484 [==============================] - 21s 2ms/step - loss: 0.0013\n",
      "ANN Mean squared error: 0.002785678\n",
      "ANN Coefficient of determination: 0.518753062\n"
     ]
    }
   ],
   "source": [
    "# Initialising the ANN\n",
    "model = Sequential()\n",
    "\n",
    "# Adding the input layer and the first hidden layer\n",
    "model.add(Dense(6, activation = 'relu', input_dim = 11))\n",
    "\n",
    "# Adding the second hidden layer\n",
    "model.add(Dense(units = 6, activation = 'relu'))\n",
    "\n",
    "# Adding the third hidden layer\n",
    "model.add(Dense(units = 6, activation = 'relu'))\n",
    "\n",
    "# Adding the fouth hidden layer\n",
    "model.add(Dense(units = 6, activation = 'relu'))\n",
    "\n",
    "# Adding the output layer\n",
    "model.add(Dense(units = 1))\n",
    "\n",
    "model.compile(optimizer = 'adam',loss = 'mean_squared_error')\n",
    "\n",
    "model.fit(X_train_norm, y_train, batch_size = 10, epochs = 10)\n",
    "\n",
    "y_pred = model.predict(X_test_norm)\n",
    "\n",
    "print('ANN Mean squared error: %.9f' % mean_squared_error(y_test, y_pred))\n",
    "print('ANN Coefficient of determination: %.9f' % r2_score(y_test, y_pred))"
   ]
  },
  {
   "cell_type": "markdown",
   "metadata": {},
   "source": [
    "## Tanh\n",
    "### One layer"
   ]
  },
  {
   "cell_type": "code",
   "execution_count": 11,
   "metadata": {},
   "outputs": [
    {
     "name": "stdout",
     "output_type": "stream",
     "text": [
      "Epoch 1/10\n",
      "10484/10484 [==============================] - 24s 2ms/step - loss: 0.0048\n",
      "Epoch 2/10\n",
      "10484/10484 [==============================] - 21s 2ms/step - loss: 0.0015\n",
      "Epoch 3/10\n",
      "10484/10484 [==============================] - 14s 1ms/step - loss: 0.0014\n",
      "Epoch 4/10\n",
      "10484/10484 [==============================] - 13s 1ms/step - loss: 0.0014\n",
      "Epoch 5/10\n",
      "10484/10484 [==============================] - 11s 1ms/step - loss: 0.0014\n",
      "Epoch 6/10\n",
      "10484/10484 [==============================] - 11s 1ms/step - loss: 0.0014\n",
      "Epoch 7/10\n",
      "10484/10484 [==============================] - 10s 979us/step - loss: 0.0014\n",
      "Epoch 8/10\n",
      "10484/10484 [==============================] - 12s 1ms/step - loss: 0.0014\n",
      "Epoch 9/10\n",
      "10484/10484 [==============================] - 13s 1ms/step - loss: 0.0014\n",
      "Epoch 10/10\n",
      "10484/10484 [==============================] - 17s 2ms/step - loss: 0.0013\n",
      "ANN Mean squared error: 0.002452109\n",
      "ANN Coefficient of determination: 0.576379602\n"
     ]
    }
   ],
   "source": [
    "# Initialising the ANN\n",
    "model = Sequential()\n",
    "\n",
    "# Adding the input layer and the first hidden layer\n",
    "model.add(Dense(6, activation = 'tanh', input_dim = 11))\n",
    "\n",
    "# # Adding the second hidden layer\n",
    "# model.add(Dense(units = 6, activation = 'relu'))\n",
    "\n",
    "# # Adding the third hidden layer\n",
    "# model.add(Dense(units = 6, activation = 'relu'))\n",
    "\n",
    "# # Adding the fouth hidden layer\n",
    "# model.add(Dense(units = 6, activation = 'relu'))\n",
    "\n",
    "# # Adding the fifth hidden layer\n",
    "# model.add(Dense(units = 6, activation = 'relu'))\n",
    "\n",
    "# Adding the output layer\n",
    "model.add(Dense(units = 1))\n",
    "\n",
    "model.compile(optimizer = 'adam',loss = 'mean_squared_error')\n",
    "\n",
    "model.fit(X_train_norm, y_train, batch_size = 10, epochs = 10)\n",
    "\n",
    "y_pred = model.predict(X_test_norm)\n",
    "\n",
    "print('ANN Mean squared error: %.9f' % mean_squared_error(y_test, y_pred))\n",
    "print('ANN Coefficient of determination: %.9f' % r2_score(y_test, y_pred))"
   ]
  },
  {
   "cell_type": "markdown",
   "metadata": {},
   "source": [
    "### Two layers"
   ]
  },
  {
   "cell_type": "code",
   "execution_count": 12,
   "metadata": {},
   "outputs": [
    {
     "name": "stdout",
     "output_type": "stream",
     "text": [
      "Epoch 1/10\n",
      "10484/10484 [==============================] - 12s 1ms/step - loss: 0.0026\n",
      "Epoch 2/10\n",
      "10484/10484 [==============================] - 13s 1ms/step - loss: 0.0014\n",
      "Epoch 3/10\n",
      "10484/10484 [==============================] - 14s 1ms/step - loss: 0.0014\n",
      "Epoch 4/10\n",
      "10484/10484 [==============================] - 17s 2ms/step - loss: 0.0013\n",
      "Epoch 5/10\n",
      "10484/10484 [==============================] - 22s 2ms/step - loss: 0.0013\n",
      "Epoch 6/10\n",
      "10484/10484 [==============================] - 26s 2ms/step - loss: 0.0013\n",
      "Epoch 7/10\n",
      "10484/10484 [==============================] - 19s 2ms/step - loss: 0.0013\n",
      "Epoch 8/10\n",
      "10484/10484 [==============================] - 14s 1ms/step - loss: 0.0013\n",
      "Epoch 9/10\n",
      "10484/10484 [==============================] - 15s 1ms/step - loss: 0.0013\n",
      "Epoch 10/10\n",
      "10484/10484 [==============================] - 11s 1ms/step - loss: 0.0013\n",
      "ANN Mean squared error: 0.002261168\n",
      "ANN Coefficient of determination: 0.609366049\n"
     ]
    }
   ],
   "source": [
    "# Initialising the ANN\n",
    "model = Sequential()\n",
    "\n",
    "# Adding the input layer and the first hidden layer\n",
    "model.add(Dense(6, activation = 'tanh', input_dim = 11))\n",
    "\n",
    "# Adding the second hidden layer\n",
    "model.add(Dense(units = 6, activation = 'tanh'))\n",
    "\n",
    "# # Adding the third hidden layer\n",
    "# model.add(Dense(units = 6, activation = 'relu'))\n",
    "\n",
    "# # Adding the fouth hidden layer\n",
    "# model.add(Dense(units = 6, activation = 'relu'))\n",
    "\n",
    "# # Adding the fifth hidden layer\n",
    "# model.add(Dense(units = 6, activation = 'relu'))\n",
    "\n",
    "# Adding the output layer\n",
    "model.add(Dense(units = 1))\n",
    "\n",
    "model.compile(optimizer = 'adam',loss = 'mean_squared_error')\n",
    "\n",
    "model.fit(X_train_norm, y_train, batch_size = 10, epochs = 10)\n",
    "\n",
    "y_pred = model.predict(X_test_norm)\n",
    "\n",
    "print('ANN Mean squared error: %.9f' % mean_squared_error(y_test, y_pred))\n",
    "print('ANN Coefficient of determination: %.9f' % r2_score(y_test, y_pred))"
   ]
  },
  {
   "cell_type": "markdown",
   "metadata": {},
   "source": [
    "### Three layers"
   ]
  },
  {
   "cell_type": "code",
   "execution_count": 13,
   "metadata": {},
   "outputs": [
    {
     "name": "stdout",
     "output_type": "stream",
     "text": [
      "Epoch 1/10\n",
      "10484/10484 [==============================] - 11s 1ms/step - loss: 0.0026\n",
      "Epoch 2/10\n",
      "10484/10484 [==============================] - 12s 1ms/step - loss: 0.0014\n",
      "Epoch 3/10\n",
      "10484/10484 [==============================] - 12s 1ms/step - loss: 0.0014\n",
      "Epoch 4/10\n",
      "10484/10484 [==============================] - 11s 1ms/step - loss: 0.0013\n",
      "Epoch 5/10\n",
      "10484/10484 [==============================] - 12s 1ms/step - loss: 0.0013\n",
      "Epoch 6/10\n",
      "10484/10484 [==============================] - 14s 1ms/step - loss: 0.0013\n",
      "Epoch 7/10\n",
      "10484/10484 [==============================] - 14s 1ms/step - loss: 0.0013\n",
      "Epoch 8/10\n",
      "10484/10484 [==============================] - 17s 2ms/step - loss: 0.0013\n",
      "Epoch 9/10\n",
      "10484/10484 [==============================] - 31s 3ms/step - loss: 0.0013\n",
      "Epoch 10/10\n",
      "10484/10484 [==============================] - 30s 3ms/step - loss: 0.0013\n",
      "ANN Mean squared error: 0.002182191\n",
      "ANN Coefficient of determination: 0.623009984\n"
     ]
    }
   ],
   "source": [
    "# Initialising the ANN\n",
    "model = Sequential()\n",
    "\n",
    "# Adding the input layer and the first hidden layer\n",
    "model.add(Dense(6, activation = 'tanh', input_dim = 11))\n",
    "\n",
    "# Adding the second hidden layer\n",
    "model.add(Dense(units = 6, activation = 'tanh'))\n",
    "\n",
    "# Adding the third hidden layer\n",
    "model.add(Dense(units = 6, activation = 'tanh'))\n",
    "\n",
    "# # Adding the fouth hidden layer\n",
    "# model.add(Dense(units = 6, activation = 'relu'))\n",
    "\n",
    "# # Adding the fifth hidden layer\n",
    "# model.add(Dense(units = 6, activation = 'relu'))\n",
    "\n",
    "# Adding the output layer\n",
    "model.add(Dense(units = 1))\n",
    "\n",
    "model.compile(optimizer = 'adam',loss = 'mean_squared_error')\n",
    "\n",
    "model.fit(X_train_norm, y_train, batch_size = 10, epochs = 10)\n",
    "\n",
    "y_pred = model.predict(X_test_norm)\n",
    "\n",
    "print('ANN Mean squared error: %.9f' % mean_squared_error(y_test, y_pred))\n",
    "print('ANN Coefficient of determination: %.9f' % r2_score(y_test, y_pred))"
   ]
  },
  {
   "cell_type": "markdown",
   "metadata": {},
   "source": [
    "### Four layers"
   ]
  },
  {
   "cell_type": "code",
   "execution_count": 14,
   "metadata": {},
   "outputs": [
    {
     "name": "stdout",
     "output_type": "stream",
     "text": [
      "Epoch 1/10\n",
      "10484/10484 [==============================] - 12s 1ms/step - loss: 0.0038\n",
      "Epoch 2/10\n",
      "10484/10484 [==============================] - 17s 2ms/step - loss: 0.0015\n",
      "Epoch 3/10\n",
      "10484/10484 [==============================] - 18s 2ms/step - loss: 0.0014\n",
      "Epoch 4/10\n",
      "10484/10484 [==============================] - 18s 2ms/step - loss: 0.0014\n",
      "Epoch 5/10\n",
      "10484/10484 [==============================] - 28s 3ms/step - loss: 0.0014\n",
      "Epoch 6/10\n",
      "10484/10484 [==============================] - 34s 3ms/step - loss: 0.0013\n",
      "Epoch 7/10\n",
      "10484/10484 [==============================] - 20s 2ms/step - loss: 0.0013\n",
      "Epoch 8/10\n",
      "10484/10484 [==============================] - 21s 2ms/step - loss: 0.0013\n",
      "Epoch 9/10\n",
      "10484/10484 [==============================] - 15s 1ms/step - loss: 0.0013\n",
      "Epoch 10/10\n",
      "10484/10484 [==============================] - 14s 1ms/step - loss: 0.0013\n",
      "ANN Mean squared error: 0.002183760\n",
      "ANN Coefficient of determination: 0.622738870\n"
     ]
    }
   ],
   "source": [
    "# Initialising the ANN\n",
    "model = Sequential()\n",
    "\n",
    "# Adding the input layer and the first hidden layer\n",
    "model.add(Dense(6, activation = 'tanh', input_dim = 11))\n",
    "\n",
    "# Adding the second hidden layer\n",
    "model.add(Dense(units = 6, activation = 'tanh'))\n",
    "\n",
    "# Adding the third hidden layer\n",
    "model.add(Dense(units = 6, activation = 'tanh'))\n",
    "\n",
    "# Adding the fouth hidden layer\n",
    "model.add(Dense(units = 6, activation = 'tanh'))\n",
    "\n",
    "# # Adding the fifth hidden layer\n",
    "# model.add(Dense(units = 6, activation = 'relu'))\n",
    "\n",
    "# Adding the output layer\n",
    "model.add(Dense(units = 1))\n",
    "\n",
    "model.compile(optimizer = 'adam',loss = 'mean_squared_error')\n",
    "\n",
    "model.fit(X_train_norm, y_train, batch_size = 10, epochs = 10)\n",
    "\n",
    "y_pred = model.predict(X_test_norm)\n",
    "\n",
    "print('ANN Mean squared error: %.9f' % mean_squared_error(y_test, y_pred))\n",
    "print('ANN Coefficient of determination: %.9f' % r2_score(y_test, y_pred))"
   ]
  },
  {
   "cell_type": "code",
   "execution_count": 15,
   "metadata": {},
   "outputs": [
    {
     "name": "stdout",
     "output_type": "stream",
     "text": [
      "Epoch 1/10\n",
      "104832/104832 [==============================] - 193s 2ms/step - loss: 0.0016\n",
      "Epoch 2/10\n",
      "104832/104832 [==============================] - 153s 1ms/step - loss: 0.0014\n",
      "Epoch 3/10\n",
      "104832/104832 [==============================] - 161s 2ms/step - loss: 0.0014\n",
      "Epoch 4/10\n",
      "104832/104832 [==============================] - 154s 1ms/step - loss: 0.0013\n",
      "Epoch 5/10\n",
      "104832/104832 [==============================] - 117s 1ms/step - loss: 0.0013\n",
      "Epoch 6/10\n",
      "104832/104832 [==============================] - 107s 1ms/step - loss: 0.0013\n",
      "Epoch 7/10\n",
      "104832/104832 [==============================] - 106s 1ms/step - loss: 0.0013\n",
      "Epoch 8/10\n",
      "104832/104832 [==============================] - 102s 970us/step - loss: 0.0013\n",
      "Epoch 9/10\n",
      "104832/104832 [==============================] - 116s 1ms/step - loss: 0.0013\n",
      "Epoch 10/10\n",
      "104832/104832 [==============================] - 117s 1ms/step - loss: 0.0013\n",
      "ANN Mean squared error: 0.002697528\n",
      "ANN Coefficient of determination: 0.533981631\n"
     ]
    }
   ],
   "source": [
    "# Initialising the ANN\n",
    "model = Sequential()\n",
    "\n",
    "# Adding the input layer and the first hidden layer\n",
    "model.add(Dense(6, activation = 'tanh', input_dim = 11))\n",
    "\n",
    "# Adding the second hidden layer\n",
    "model.add(Dense(units = 6, activation = 'tanh'))\n",
    "\n",
    "# Adding the third hidden layer\n",
    "model.add(Dense(units = 6, activation = 'tanh'))\n",
    "\n",
    "# Adding the fouth hidden layer\n",
    "model.add(Dense(units = 6, activation = 'tanh'))\n",
    "\n",
    "# # Adding the fifth hidden layer\n",
    "# model.add(Dense(units = 6, activation = 'relu'))\n",
    "\n",
    "# Adding the output layer\n",
    "model.add(Dense(units = 1))\n",
    "\n",
    "model.compile(optimizer = 'adam',loss = 'mean_squared_error')\n",
    "\n",
    "model.fit(X_train_norm, y_train, batch_size = 1, epochs = 10)\n",
    "\n",
    "y_pred = model.predict(X_test_norm)\n",
    "\n",
    "print('ANN Mean squared error: %.9f' % mean_squared_error(y_test, y_pred))\n",
    "print('ANN Coefficient of determination: %.9f' % r2_score(y_test, y_pred))"
   ]
  },
  {
   "cell_type": "markdown",
   "metadata": {},
   "source": [
    "## Softmax\n",
    "### One layer"
   ]
  },
  {
   "cell_type": "code",
   "execution_count": 16,
   "metadata": {},
   "outputs": [
    {
     "name": "stdout",
     "output_type": "stream",
     "text": [
      "Epoch 1/10\n",
      "10484/10484 [==============================] - 13s 1ms/step - loss: 0.0023\n",
      "Epoch 2/10\n",
      "10484/10484 [==============================] - 13s 1ms/step - loss: 0.0014\n",
      "Epoch 3/10\n",
      "10484/10484 [==============================] - 14s 1ms/step - loss: 0.0014\n",
      "Epoch 4/10\n",
      "10484/10484 [==============================] - 13s 1ms/step - loss: 0.0014\n",
      "Epoch 5/10\n",
      "10484/10484 [==============================] - 12s 1ms/step - loss: 0.0014\n",
      "Epoch 6/10\n",
      "10484/10484 [==============================] - 12s 1ms/step - loss: 0.0014\n",
      "Epoch 7/10\n",
      "10484/10484 [==============================] - 12s 1ms/step - loss: 0.0014\n",
      "Epoch 8/10\n",
      "10484/10484 [==============================] - 12s 1ms/step - loss: 0.0014\n",
      "Epoch 9/10\n",
      "10484/10484 [==============================] - 12s 1ms/step - loss: 0.0014\n",
      "Epoch 10/10\n",
      "10484/10484 [==============================] - 13s 1ms/step - loss: 0.0014\n",
      "ANN Mean squared error: 0.002513550\n",
      "ANN Coefficient of determination: 0.565765181\n"
     ]
    }
   ],
   "source": [
    "# Initialising the ANN\n",
    "model = Sequential()\n",
    "\n",
    "# Adding the input layer and the first hidden layer\n",
    "model.add(Dense(6, activation = 'softmax', input_dim = 11))\n",
    "\n",
    "# # Adding the second hidden layer\n",
    "# model.add(Dense(units = 6, activation = 'tanh'))\n",
    "\n",
    "# # Adding the third hidden layer\n",
    "# model.add(Dense(units = 6, activation = 'tanh'))\n",
    "\n",
    "# # Adding the fouth hidden layer\n",
    "# model.add(Dense(units = 6, activation = 'tanh'))\n",
    "\n",
    "# # # Adding the fifth hidden layer\n",
    "# # model.add(Dense(units = 6, activation = 'relu'))\n",
    "\n",
    "# Adding the output layer\n",
    "model.add(Dense(units = 1))\n",
    "\n",
    "model.compile(optimizer = 'adam',loss = 'mean_squared_error')\n",
    "\n",
    "model.fit(X_train_norm, y_train, batch_size = 10, epochs = 10)\n",
    "\n",
    "y_pred = model.predict(X_test_norm)\n",
    "\n",
    "print('ANN Mean squared error: %.9f' % mean_squared_error(y_test, y_pred))\n",
    "print('ANN Coefficient of determination: %.9f' % r2_score(y_test, y_pred))"
   ]
  },
  {
   "cell_type": "markdown",
   "metadata": {},
   "source": [
    "### Two layers\n"
   ]
  },
  {
   "cell_type": "code",
   "execution_count": 17,
   "metadata": {},
   "outputs": [
    {
     "name": "stdout",
     "output_type": "stream",
     "text": [
      "Epoch 1/10\n",
      "10484/10484 [==============================] - 15s 1ms/step - loss: 0.0026\n",
      "Epoch 2/10\n",
      "10484/10484 [==============================] - 13s 1ms/step - loss: 0.0014\n",
      "Epoch 3/10\n",
      "10484/10484 [==============================] - 13s 1ms/step - loss: 0.0014\n",
      "Epoch 4/10\n",
      "10484/10484 [==============================] - 11s 1ms/step - loss: 0.0014\n",
      "Epoch 5/10\n",
      "10484/10484 [==============================] - 14s 1ms/step - loss: 0.0014\n",
      "Epoch 6/10\n",
      "10484/10484 [==============================] - 14s 1ms/step - loss: 0.0014\n",
      "Epoch 7/10\n",
      "10484/10484 [==============================] - 13s 1ms/step - loss: 0.0014\n",
      "Epoch 8/10\n",
      "10484/10484 [==============================] - 14s 1ms/step - loss: 0.0014\n",
      "Epoch 9/10\n",
      "10484/10484 [==============================] - 13s 1ms/step - loss: 0.0014\n",
      "Epoch 10/10\n",
      "10484/10484 [==============================] - 14s 1ms/step - loss: 0.0014\n",
      "ANN Mean squared error: 0.002302615\n",
      "ANN Coefficient of determination: 0.602205745\n"
     ]
    }
   ],
   "source": [
    "# Initialising the ANN\n",
    "model = Sequential()\n",
    "\n",
    "# Adding the input layer and the first hidden layer\n",
    "model.add(Dense(6, activation = 'softmax', input_dim = 11))\n",
    "\n",
    "# Adding the second hidden layer\n",
    "model.add(Dense(units = 6, activation = 'softmax'))\n",
    "\n",
    "# # Adding the third hidden layer\n",
    "# model.add(Dense(units = 6, activation = 'tanh'))\n",
    "\n",
    "# # Adding the fouth hidden layer\n",
    "# model.add(Dense(units = 6, activation = 'tanh'))\n",
    "\n",
    "# # # Adding the fifth hidden layer\n",
    "# # model.add(Dense(units = 6, activation = 'relu'))\n",
    "\n",
    "# Adding the output layer\n",
    "model.add(Dense(units = 1))\n",
    "\n",
    "model.compile(optimizer = 'adam',loss = 'mean_squared_error')\n",
    "\n",
    "model.fit(X_train_norm, y_train, batch_size = 10, epochs = 10)\n",
    "\n",
    "y_pred = model.predict(X_test_norm)\n",
    "\n",
    "print('ANN Mean squared error: %.9f' % mean_squared_error(y_test, y_pred))\n",
    "print('ANN Coefficient of determination: %.9f' % r2_score(y_test, y_pred))"
   ]
  },
  {
   "cell_type": "markdown",
   "metadata": {},
   "source": [
    "### Three layers"
   ]
  },
  {
   "cell_type": "code",
   "execution_count": 18,
   "metadata": {},
   "outputs": [
    {
     "name": "stdout",
     "output_type": "stream",
     "text": [
      "Epoch 1/10\n",
      "10484/10484 [==============================] - 84s 8ms/step - loss: 0.0018\n",
      "Epoch 2/10\n",
      "10484/10484 [==============================] - 64s 6ms/step - loss: 0.0014\n",
      "Epoch 3/10\n",
      "10484/10484 [==============================] - 63s 6ms/step - loss: 0.0014\n",
      "Epoch 4/10\n",
      "10484/10484 [==============================] - 57s 5ms/step - loss: 0.0014\n",
      "Epoch 5/10\n",
      "10484/10484 [==============================] - 47s 4ms/step - loss: 0.0014\n",
      "Epoch 6/10\n",
      "10484/10484 [==============================] - 54s 5ms/step - loss: 0.0014\n",
      "Epoch 7/10\n",
      "10484/10484 [==============================] - 43s 4ms/step - loss: 0.0014\n",
      "Epoch 8/10\n",
      "10484/10484 [==============================] - 20s 2ms/step - loss: 0.0014\n",
      "Epoch 9/10\n",
      "10484/10484 [==============================] - 31s 3ms/step - loss: 0.0014\n",
      "Epoch 10/10\n",
      "10484/10484 [==============================] - 24s 2ms/step - loss: 0.0014\n",
      "ANN Mean squared error: 0.002329159\n",
      "ANN Coefficient of determination: 0.597620218\n"
     ]
    }
   ],
   "source": [
    "# Initialising the ANN\n",
    "model = Sequential()\n",
    "\n",
    "# Adding the input layer and the first hidden layer\n",
    "model.add(Dense(6, activation = 'softmax', input_dim = 11))\n",
    "\n",
    "# Adding the second hidden layer\n",
    "model.add(Dense(units = 6, activation = 'softmax'))\n",
    "\n",
    "# Adding the third hidden layer\n",
    "model.add(Dense(units = 6, activation = 'softmax'))\n",
    "\n",
    "# # Adding the fouth hidden layer\n",
    "# model.add(Dense(units = 6, activation = 'tanh'))\n",
    "\n",
    "# # # Adding the fifth hidden layer\n",
    "# # model.add(Dense(units = 6, activation = 'relu'))\n",
    "\n",
    "# Adding the output layer\n",
    "model.add(Dense(units = 1))\n",
    "\n",
    "model.compile(optimizer = 'adam',loss = 'mean_squared_error')\n",
    "\n",
    "model.fit(X_train_norm, y_train, batch_size = 10, epochs = 10)\n",
    "\n",
    "y_pred = model.predict(X_test_norm)\n",
    "\n",
    "print('ANN Mean squared error: %.9f' % mean_squared_error(y_test, y_pred))\n",
    "print('ANN Coefficient of determination: %.9f' % r2_score(y_test, y_pred))"
   ]
  },
  {
   "cell_type": "markdown",
   "metadata": {},
   "source": [
    "### Four layers"
   ]
  },
  {
   "cell_type": "code",
   "execution_count": 19,
   "metadata": {},
   "outputs": [
    {
     "name": "stdout",
     "output_type": "stream",
     "text": [
      "Epoch 1/10\n",
      "10484/10484 [==============================] - 43s 4ms/step - loss: 0.0037\n",
      "Epoch 2/10\n",
      "10484/10484 [==============================] - 19s 2ms/step - loss: 0.0014\n",
      "Epoch 3/10\n",
      "10484/10484 [==============================] - 15s 1ms/step - loss: 0.0014\n",
      "Epoch 4/10\n",
      "10484/10484 [==============================] - 17s 2ms/step - loss: 0.0014\n",
      "Epoch 5/10\n",
      "10484/10484 [==============================] - 23s 2ms/step - loss: 0.0014\n",
      "Epoch 6/10\n",
      "10484/10484 [==============================] - 36s 3ms/step - loss: 0.0014\n",
      "Epoch 7/10\n",
      "10484/10484 [==============================] - 19s 2ms/step - loss: 0.0014\n",
      "Epoch 8/10\n",
      "10484/10484 [==============================] - 26s 2ms/step - loss: 0.0014\n",
      "Epoch 9/10\n",
      "10484/10484 [==============================] - 31s 3ms/step - loss: 0.0014\n",
      "Epoch 10/10\n",
      "10484/10484 [==============================] - 27s 3ms/step - loss: 0.0014\n",
      "ANN Mean squared error: 0.002271034\n",
      "ANN Coefficient of determination: 0.607661624\n"
     ]
    }
   ],
   "source": [
    "# Initialising the ANN\n",
    "model = Sequential()\n",
    "\n",
    "# Adding the input layer and the first hidden layer\n",
    "model.add(Dense(6, activation = 'softmax', input_dim = 11))\n",
    "\n",
    "# Adding the second hidden layer\n",
    "model.add(Dense(units = 6, activation = 'softmax'))\n",
    "\n",
    "# Adding the third hidden layer\n",
    "model.add(Dense(units = 6, activation = 'softmax'))\n",
    "\n",
    "# Adding the fouth hidden layer\n",
    "model.add(Dense(units = 6, activation = 'softmax'))\n",
    "\n",
    "# # # Adding the fifth hidden layer\n",
    "# # model.add(Dense(units = 6, activation = 'relu'))\n",
    "\n",
    "# Adding the output layer\n",
    "model.add(Dense(units = 1))\n",
    "\n",
    "model.compile(optimizer = 'adam',loss = 'mean_squared_error')\n",
    "\n",
    "model.fit(X_train_norm, y_train, batch_size = 10, epochs = 10)\n",
    "\n",
    "y_pred = model.predict(X_test_norm)\n",
    "\n",
    "print('ANN Mean squared error: %.9f' % mean_squared_error(y_test, y_pred))\n",
    "print('ANN Coefficient of determination: %.9f' % r2_score(y_test, y_pred))"
   ]
  },
  {
   "cell_type": "markdown",
   "metadata": {},
   "source": [
    "## Sigmoid\n",
    "### One layer"
   ]
  },
  {
   "cell_type": "code",
   "execution_count": 20,
   "metadata": {},
   "outputs": [
    {
     "name": "stdout",
     "output_type": "stream",
     "text": [
      "Epoch 1/10\n",
      "10484/10484 [==============================] - 13s 1ms/step - loss: 0.0066\n",
      "Epoch 2/10\n",
      "10484/10484 [==============================] - 15s 1ms/step - loss: 0.0016\n",
      "Epoch 3/10\n",
      "10484/10484 [==============================] - 14s 1ms/step - loss: 0.0015\n",
      "Epoch 4/10\n",
      "10484/10484 [==============================] - 12s 1ms/step - loss: 0.0015\n",
      "Epoch 5/10\n",
      "10484/10484 [==============================] - 11s 1ms/step - loss: 0.0014\n",
      "Epoch 6/10\n",
      "10484/10484 [==============================] - 11s 1ms/step - loss: 0.0014\n",
      "Epoch 7/10\n",
      "10484/10484 [==============================] - 11s 1ms/step - loss: 0.0014\n",
      "Epoch 8/10\n",
      "10484/10484 [==============================] - 12s 1ms/step - loss: 0.0014\n",
      "Epoch 9/10\n",
      "10484/10484 [==============================] - 11s 1ms/step - loss: 0.0014\n",
      "Epoch 10/10\n",
      "10484/10484 [==============================] - 11s 1ms/step - loss: 0.0014\n",
      "ANN Mean squared error: 0.002682002\n",
      "ANN Coefficient of determination: 0.536663784\n"
     ]
    }
   ],
   "source": [
    "# Initialising the ANN\n",
    "model = Sequential()\n",
    "\n",
    "# Adding the input layer and the first hidden layer\n",
    "model.add(Dense(6, activation = 'sigmoid', input_dim = 11))\n",
    "\n",
    "# # Adding the second hidden layer\n",
    "# model.add(Dense(units = 6, activation = 'softmax'))\n",
    "\n",
    "# # Adding the third hidden layer\n",
    "# model.add(Dense(units = 6, activation = 'softmax'))\n",
    "\n",
    "# # Adding the fouth hidden layer\n",
    "# model.add(Dense(units = 6, activation = 'tanh'))\n",
    "\n",
    "# # # Adding the fifth hidden layer\n",
    "# # model.add(Dense(units = 6, activation = 'relu'))\n",
    "\n",
    "# Adding the output layer\n",
    "model.add(Dense(units = 1))\n",
    "\n",
    "model.compile(optimizer = 'adam',loss = 'mean_squared_error')\n",
    "\n",
    "model.fit(X_train_norm, y_train, batch_size = 10, epochs = 10)\n",
    "\n",
    "y_pred = model.predict(X_test_norm)\n",
    "\n",
    "print('ANN Mean squared error: %.9f' % mean_squared_error(y_test, y_pred))\n",
    "print('ANN Coefficient of determination: %.9f' % r2_score(y_test, y_pred))"
   ]
  },
  {
   "cell_type": "markdown",
   "metadata": {},
   "source": [
    "### Two layers"
   ]
  },
  {
   "cell_type": "code",
   "execution_count": 21,
   "metadata": {},
   "outputs": [
    {
     "name": "stdout",
     "output_type": "stream",
     "text": [
      "Epoch 1/10\n",
      "10484/10484 [==============================] - 12s 1ms/step - loss: 0.0018\n",
      "Epoch 2/10\n",
      "10484/10484 [==============================] - 12s 1ms/step - loss: 0.0014\n",
      "Epoch 3/10\n",
      "10484/10484 [==============================] - 12s 1ms/step - loss: 0.0014\n",
      "Epoch 4/10\n",
      "10484/10484 [==============================] - 12s 1ms/step - loss: 0.0014\n",
      "Epoch 5/10\n",
      "10484/10484 [==============================] - 12s 1ms/step - loss: 0.0014\n",
      "Epoch 6/10\n",
      "10484/10484 [==============================] - 12s 1ms/step - loss: 0.0014\n",
      "Epoch 7/10\n",
      "10484/10484 [==============================] - 12s 1ms/step - loss: 0.0014\n",
      "Epoch 8/10\n",
      "10484/10484 [==============================] - 13s 1ms/step - loss: 0.0013\n",
      "Epoch 9/10\n",
      "10484/10484 [==============================] - 12s 1ms/step - loss: 0.0013\n",
      "Epoch 10/10\n",
      "10484/10484 [==============================] - 12s 1ms/step - loss: 0.0013\n",
      "ANN Mean squared error: 0.002391172\n",
      "ANN Coefficient of determination: 0.586906861\n"
     ]
    }
   ],
   "source": [
    "# Initialising the ANN\n",
    "model = Sequential()\n",
    "\n",
    "# Adding the input layer and the first hidden layer\n",
    "model.add(Dense(6, activation = 'sigmoid', input_dim = 11))\n",
    "\n",
    "# Adding the second hidden layer\n",
    "model.add(Dense(units = 6, activation = 'sigmoid'))\n",
    "\n",
    "# # Adding the third hidden layer\n",
    "# model.add(Dense(units = 6, activation = 'softmax'))\n",
    "\n",
    "# # Adding the fouth hidden layer\n",
    "# model.add(Dense(units = 6, activation = 'tanh'))\n",
    "\n",
    "# # # Adding the fifth hidden layer\n",
    "# # model.add(Dense(units = 6, activation = 'relu'))\n",
    "\n",
    "# Adding the output layer\n",
    "model.add(Dense(units = 1))\n",
    "\n",
    "model.compile(optimizer = 'adam',loss = 'mean_squared_error')\n",
    "\n",
    "model.fit(X_train_norm, y_train, batch_size = 10, epochs = 10)\n",
    "\n",
    "y_pred = model.predict(X_test_norm)\n",
    "\n",
    "print('ANN Mean squared error: %.9f' % mean_squared_error(y_test, y_pred))\n",
    "print('ANN Coefficient of determination: %.9f' % r2_score(y_test, y_pred))"
   ]
  },
  {
   "cell_type": "markdown",
   "metadata": {},
   "source": [
    "### Three layers"
   ]
  },
  {
   "cell_type": "code",
   "execution_count": 22,
   "metadata": {},
   "outputs": [
    {
     "name": "stdout",
     "output_type": "stream",
     "text": [
      "Epoch 1/10\n",
      "10484/10484 [==============================] - 13s 1ms/step - loss: 0.0022\n",
      "Epoch 2/10\n",
      "10484/10484 [==============================] - 13s 1ms/step - loss: 0.0014\n",
      "Epoch 3/10\n",
      "10484/10484 [==============================] - 12s 1ms/step - loss: 0.0014\n",
      "Epoch 4/10\n",
      "10484/10484 [==============================] - 15s 1ms/step - loss: 0.0014\n",
      "Epoch 5/10\n",
      "10484/10484 [==============================] - 12s 1ms/step - loss: 0.0014\n",
      "Epoch 6/10\n",
      "10484/10484 [==============================] - 12s 1ms/step - loss: 0.0014\n",
      "Epoch 7/10\n",
      "10484/10484 [==============================] - 12s 1ms/step - loss: 0.0014\n",
      "Epoch 8/10\n",
      "10484/10484 [==============================] - 12s 1ms/step - loss: 0.0013\n",
      "Epoch 9/10\n",
      "10484/10484 [==============================] - 12s 1ms/step - loss: 0.0013\n",
      "Epoch 10/10\n",
      "10484/10484 [==============================] - 14s 1ms/step - loss: 0.0013\n",
      "ANN Mean squared error: 0.002201562\n",
      "ANN Coefficient of determination: 0.619663444\n"
     ]
    }
   ],
   "source": [
    "# Initialising the ANN\n",
    "model = Sequential()\n",
    "\n",
    "# Adding the input layer and the first hidden layer\n",
    "model.add(Dense(6, activation = 'sigmoid', input_dim = 11))\n",
    "\n",
    "# Adding the second hidden layer\n",
    "model.add(Dense(units = 6, activation = 'sigmoid'))\n",
    "\n",
    "# Adding the third hidden layer\n",
    "model.add(Dense(units = 6, activation = 'sigmoid'))\n",
    "\n",
    "# # Adding the fouth hidden layer\n",
    "# model.add(Dense(units = 6, activation = 'tanh'))\n",
    "\n",
    "# # # Adding the fifth hidden layer\n",
    "# # model.add(Dense(units = 6, activation = 'relu'))\n",
    "\n",
    "# Adding the output layer\n",
    "model.add(Dense(units = 1))\n",
    "\n",
    "model.compile(optimizer = 'adam',loss = 'mean_squared_error')\n",
    "\n",
    "model.fit(X_train_norm, y_train, batch_size = 10, epochs = 10)\n",
    "\n",
    "y_pred = model.predict(X_test_norm)\n",
    "\n",
    "print('ANN Mean squared error: %.9f' % mean_squared_error(y_test, y_pred))\n",
    "print('ANN Coefficient of determination: %.9f' % r2_score(y_test, y_pred))"
   ]
  },
  {
   "cell_type": "markdown",
   "metadata": {},
   "source": [
    "### Four layers"
   ]
  },
  {
   "cell_type": "code",
   "execution_count": 23,
   "metadata": {},
   "outputs": [
    {
     "name": "stdout",
     "output_type": "stream",
     "text": [
      "Epoch 1/10\n",
      "10484/10484 [==============================] - 14s 1ms/step - loss: 0.0094\n",
      "Epoch 2/10\n",
      "10484/10484 [==============================] - 13s 1ms/step - loss: 0.0015\n",
      "Epoch 3/10\n",
      "10484/10484 [==============================] - 13s 1ms/step - loss: 0.0015\n",
      "Epoch 4/10\n",
      "10484/10484 [==============================] - 13s 1ms/step - loss: 0.0014\n",
      "Epoch 5/10\n",
      "10484/10484 [==============================] - 15s 1ms/step - loss: 0.0014\n",
      "Epoch 6/10\n",
      "10484/10484 [==============================] - 14s 1ms/step - loss: 0.0014\n",
      "Epoch 7/10\n",
      "10484/10484 [==============================] - 13s 1ms/step - loss: 0.0014\n",
      "Epoch 8/10\n",
      "10484/10484 [==============================] - 15s 1ms/step - loss: 0.0014\n",
      "Epoch 9/10\n",
      "10484/10484 [==============================] - 14s 1ms/step - loss: 0.0013\n",
      "Epoch 10/10\n",
      "10484/10484 [==============================] - 14s 1ms/step - loss: 0.0013\n",
      "ANN Mean squared error: 0.002180485\n",
      "ANN Coefficient of determination: 0.623304666\n"
     ]
    }
   ],
   "source": [
    "# Initialising the ANN\n",
    "model = Sequential()\n",
    "\n",
    "# Adding the input layer and the first hidden layer\n",
    "model.add(Dense(6, activation = 'sigmoid', input_dim = 11))\n",
    "\n",
    "# Adding the second hidden layer\n",
    "model.add(Dense(units = 6, activation = 'sigmoid'))\n",
    "\n",
    "# Adding the third hidden layer\n",
    "model.add(Dense(units = 6, activation = 'sigmoid'))\n",
    "\n",
    "# Adding the fouth hidden layer\n",
    "model.add(Dense(units = 6, activation = 'sigmoid'))\n",
    "\n",
    "# # # Adding the fifth hidden layer\n",
    "# # model.add(Dense(units = 6, activation = 'relu'))\n",
    "\n",
    "# Adding the output layer\n",
    "model.add(Dense(units = 1))\n",
    "\n",
    "model.compile(optimizer = 'adam',loss = 'mean_squared_error')\n",
    "\n",
    "model.fit(X_train_norm, y_train, batch_size = 10, epochs = 10)\n",
    "\n",
    "y_pred = model.predict(X_test_norm)\n",
    "\n",
    "print('ANN Mean squared error: %.9f' % mean_squared_error(y_test, y_pred))\n",
    "print('ANN Coefficient of determination: %.9f' % r2_score(y_test, y_pred))"
   ]
  },
  {
   "cell_type": "code",
   "execution_count": 2,
   "metadata": {},
   "outputs": [],
   "source": [
    "# Plot mse and r2 for different activation function with different number of hidden layers\n",
    "\n",
    "mse_relu = [0, 0.002613598, 0.002770267, 0.002685394, 0.002785678]\n",
    "r2_relu = [0, 0.548481208, 0.521415360, 0.536077819, 0.518753062]\n",
    "mse_tanh = [0, 0.002452109, 0.002261168, 0.002182191, 0.002183760]\n",
    "r2_tanh = [0, 0.576379602, 0.609366049, 0.623009984, 0.622738870]\n",
    "mse_softmax = [0, 0.002513550, 0.002302615, 0.002329159, 0.002271034]\n",
    "r2_softmax = [0, 0.565765181, 0.602205745, 0.597620218, 0.607661624]\n",
    "mse_sigmoid = [0, 0.002682002, 0.002391172, 0.002201562, 0.002180485]\n",
    "r2_sigmoid = [0, 0.536663784, 0.586906861, 0.619663444, 0.623304666]\n"
   ]
  },
  {
   "cell_type": "code",
   "execution_count": 3,
   "metadata": {},
   "outputs": [
    {
     "data": {
      "image/png": "[encoded data removed]",
      "text/plain": [
       "<Figure size 432x288 with 1 Axes>"
      ]
     },
     "metadata": {
      "needs_background": "light"
     },
     "output_type": "display_data"
    }
   ],
   "source": [
    "plt.plot(mse_relu, color = 'red', label = 'ReLu')\n",
    "plt.plot(mse_tanh, color = 'blue', label = 'Tanh')\n",
    "plt.plot(mse_softmax, color = 'green', label = 'Softmax')\n",
    "plt.plot(mse_sigmoid, color = 'yellow', label = 'Sigmoid')\n",
    "plt.title('Mean Squared Error for different activation function with different number of hidden layers')\n",
    "plt.xlim([1, 4])\n",
    "plt.ylim([0.002, 0.0028])\n",
    "plt.xlabel('Number of hidden layers')\n",
    "plt.ylabel('Mean Squared Error')\n",
    "plt.legend()\n",
    "plt.show()"
   ]
  },
  {
   "cell_type": "code",
   "execution_count": 4,
   "metadata": {},
   "outputs": [
    {
     "data": {
      "image/png": "[encoded data removed]",
      "text/plain": [
       "<Figure size 432x288 with 1 Axes>"
      ]
     },
     "metadata": {
      "needs_background": "light"
     },
     "output_type": "display_data"
    }
   ],
   "source": [
    "plt.plot(r2_relu, color = 'red', label = 'ReLu')\n",
    "plt.plot(r2_tanh, color = 'blue', label = 'Tanh')\n",
    "plt.plot(r2_softmax, color = 'green', label = 'Softmax')\n",
    "plt.plot(r2_sigmoid, color = 'yellow', label = 'Sigmoid')\n",
    "plt.title('R2 Score for different activation function with different number of hidden layers')\n",
    "plt.xlim([1, 4])\n",
    "plt.ylim([0.5, 0.64])\n",
    "plt.xlabel('Number of hidden layers')\n",
    "plt.ylabel('R2 Score')\n",
    "plt.legend()\n",
    "plt.show()"
   ]
  },
  {
   "cell_type": "code",
   "execution_count": null,
   "metadata": {},
   "outputs": [],
   "source": []
  },
  {
   "cell_type": "markdown",
   "metadata": {},
   "source": [
    "### "
   ]
  },
  {
   "cell_type": "code",
   "execution_count": null,
   "metadata": {},
   "outputs": [],
   "source": []
  },
  {
   "cell_type": "code",
   "execution_count": null,
   "metadata": {},
   "outputs": [],
   "source": []
  },
  {
   "cell_type": "code",
   "execution_count": null,
   "metadata": {},
   "outputs": [],
   "source": []
  },
  {
   "cell_type": "code",
   "execution_count": null,
   "metadata": {},
   "outputs": [],
   "source": []
  },
  {
   "cell_type": "code",
   "execution_count": null,
   "metadata": {},
   "outputs": [],
   "source": []
  },
  {
   "cell_type": "code",
   "execution_count": null,
   "metadata": {},
   "outputs": [],
   "source": []
  },
  {
   "cell_type": "code",
   "execution_count": null,
   "metadata": {},
   "outputs": [],
   "source": []
  },
  {
   "cell_type": "code",
   "execution_count": null,
   "metadata": {},
   "outputs": [],
   "source": []
  },
  {
   "cell_type": "code",
   "execution_count": null,
   "metadata": {},
   "outputs": [],
   "source": []
  },
  {
   "cell_type": "code",
   "execution_count": null,
   "metadata": {},
   "outputs": [],
   "source": []
  },
  {
   "cell_type": "code",
   "execution_count": null,
   "metadata": {
    "scrolled": false
   },
   "outputs": [],
   "source": []
  },
  {
   "cell_type": "code",
   "execution_count": null,
   "metadata": {},
   "outputs": [],
   "source": []
  },
  {
   "cell_type": "code",
   "execution_count": null,
   "metadata": {},
   "outputs": [],
   "source": []
  },
  {
   "cell_type": "code",
   "execution_count": null,
   "metadata": {},
   "outputs": [],
   "source": []
  },
  {
   "cell_type": "code",
   "execution_count": null,
   "metadata": {},
   "outputs": [],
   "source": []
  },
  {
   "cell_type": "code",
   "execution_count": null,
   "metadata": {},
   "outputs": [],
   "source": []
  },
  {
   "cell_type": "code",
   "execution_count": null,
   "metadata": {},
   "outputs": [],
   "source": []
  },
  {
   "cell_type": "code",
   "execution_count": null,
   "metadata": {},
   "outputs": [],
   "source": []
  },
  {
   "cell_type": "code",
   "execution_count": null,
   "metadata": {},
   "outputs": [],
   "source": []
  }
 ],
 "metadata": {
  "kernelspec": {
   "display_name": "Python 3",
   "language": "python",
   "name": "python3"
  },
  "language_info": {
   "codemirror_mode": {
    "name": "ipython",
    "version": 3
   },
   "file_extension": ".py",
   "mimetype": "text/x-python",
   "name": "python",
   "nbconvert_exporter": "python",
   "pygments_lexer": "ipython3",
   "version": "3.7.3"
  }
 },
 "nbformat": 4,
 "nbformat_minor": 2
}
