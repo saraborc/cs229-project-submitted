{
 "cells": [
  {
   "cell_type": "code",
   "execution_count": 1,
   "metadata": {},
   "outputs": [
    {
     "name": "stderr",
     "output_type": "stream",
     "text": [
      "Using TensorFlow backend.\n"
     ]
    }
   ],
   "source": [
    "import pandas as pd\n",
    "from keras.models import Sequential\n",
    "from keras.layers import Dense\n",
    "from keras.wrappers.scikit_learn import KerasRegressor\n",
    "from sklearn.model_selection import cross_val_score\n",
    "from sklearn.model_selection import KFold\n",
    "from sklearn.preprocessing import StandardScaler\n",
    "from sklearn.pipeline import Pipeline\n",
    "from tensorflow.keras import Sequential\n",
    "from tensorflow.keras.layers import Conv2D, Flatten, Dense"
   ]
  },
  {
   "cell_type": "code",
   "execution_count": 2,
   "metadata": {},
   "outputs": [],
   "source": [
    "from sklearn.neural_network import MLPRegressor\n",
    "from sklearn.linear_model import Ridge\n",
    "from mpl_toolkits.mplot3d import Axes3D\n",
    "import numpy as np\n",
    "from sklearn.datasets import make_regression\n",
    "from sklearn import metrics\n",
    "import matplotlib.pyplot as plt\n",
    "from sklearn.metrics import mean_squared_error\n",
    "from sklearn.metrics import r2_score\n",
    "from sklearn.model_selection import train_test_split"
   ]
  },
  {
   "cell_type": "code",
   "execution_count": 3,
   "metadata": {},
   "outputs": [
    {
     "data": {
      "text/plain": [
       "(203616, 12)"
      ]
     },
     "execution_count": 3,
     "metadata": {},
     "output_type": "execute_result"
    }
   ],
   "source": [
    "# Import data\n",
    "X = pd.read_csv('Data Processing Scripts/X_matrix_fc.csv', header = None)\n",
    "X.head()\n",
    "y = pd.read_csv('Data Processing Scripts/y_vec_fc.csv', header = None)\n",
    "y.head()\n",
    "X.shape"
   ]
  },
  {
   "cell_type": "code",
   "execution_count": 6,
   "metadata": {},
   "outputs": [],
   "source": [
    "X_train, X_test, y_train, y_test = train_test_split(X, y, test_size=0.2, random_state=42)\n",
    "X_train = X_train.drop(X_train.columns[0], axis=1)\n",
    "X_test = X_test.drop(X_test.columns[0], axis=1)"
   ]
  },
  {
   "cell_type": "code",
   "execution_count": 7,
   "metadata": {},
   "outputs": [
    {
     "name": "stderr",
     "output_type": "stream",
     "text": [
      "C:\\Users\\admin\\Anaconda3\\lib\\site-packages\\sklearn\\preprocessing\\data.py:645: DataConversionWarning: Data with input dtype int64, float64 were all converted to float64 by StandardScaler.\n",
      "  return self.partial_fit(X, y)\n",
      "C:\\Users\\admin\\Anaconda3\\lib\\site-packages\\sklearn\\base.py:464: DataConversionWarning: Data with input dtype int64, float64 were all converted to float64 by StandardScaler.\n",
      "  return self.fit(X, **fit_params).transform(X)\n",
      "C:\\Users\\admin\\Anaconda3\\lib\\site-packages\\sklearn\\preprocessing\\data.py:645: DataConversionWarning: Data with input dtype int64, float64 were all converted to float64 by StandardScaler.\n",
      "  return self.partial_fit(X, y)\n",
      "C:\\Users\\admin\\Anaconda3\\lib\\site-packages\\sklearn\\base.py:464: DataConversionWarning: Data with input dtype int64, float64 were all converted to float64 by StandardScaler.\n",
      "  return self.fit(X, **fit_params).transform(X)\n"
     ]
    }
   ],
   "source": [
    "# Normalize the data\n",
    "scaler = StandardScaler()\n",
    "X_train_norm = scaler.fit_transform(X_train)\n",
    "X_test_norm = scaler.fit_transform(X_test)"
   ]
  },
  {
   "cell_type": "code",
   "execution_count": 8,
   "metadata": {},
   "outputs": [
    {
     "name": "stdout",
     "output_type": "stream",
     "text": [
      "Epoch 1/10\n",
      "16290/16290 [==============================] - 18s 1ms/step - loss: 0.0040\n",
      "Epoch 2/10\n",
      "16290/16290 [==============================] - 18s 1ms/step - loss: 0.0024\n",
      "Epoch 3/10\n",
      "16290/16290 [==============================] - 18s 1ms/step - loss: 0.0023\n",
      "Epoch 4/10\n",
      "16290/16290 [==============================] - 18s 1ms/step - loss: 0.0023\n",
      "Epoch 5/10\n",
      "16290/16290 [==============================] - 18s 1ms/step - loss: 0.0023\n",
      "Epoch 6/10\n",
      "16290/16290 [==============================] - 18s 1ms/step - loss: 0.0023\n",
      "Epoch 7/10\n",
      "16290/16290 [==============================] - 18s 1ms/step - loss: 0.0023\n",
      "Epoch 8/10\n",
      "16290/16290 [==============================] - 19s 1ms/step - loss: 0.0022\n",
      "Epoch 9/10\n",
      "16290/16290 [==============================] - 19s 1ms/step - loss: 0.0022\n",
      "Epoch 10/10\n",
      "16290/16290 [==============================] - 19s 1ms/step - loss: 0.0022\n",
      "ANN Mean squared error: 0.001556328\n",
      "ANN Coefficient of determination: 0.701631546\n"
     ]
    }
   ],
   "source": [
    "# Initialising the ANN\n",
    "model = Sequential()\n",
    "\n",
    "# Adding the input layer and the first hidden layer\n",
    "model.add(Dense(6, activation = 'tanh', input_dim = 11))\n",
    "\n",
    "# Adding the second hidden layer\n",
    "model.add(Dense(units = 6, activation = 'tanh'))\n",
    "\n",
    "# Adding the third hidden layer\n",
    "model.add(Dense(units = 6, activation = 'tanh'))\n",
    "\n",
    "# Adding the fouth hidden layer\n",
    "model.add(Dense(units = 6, activation = 'tanh'))\n",
    "\n",
    "# # Adding the fifth hidden layer\n",
    "# model.add(Dense(units = 6, activation = 'relu'))\n",
    "\n",
    "# Adding the output layer\n",
    "model.add(Dense(units = 1))\n",
    "\n",
    "model.compile(optimizer = 'adam',loss = 'mean_squared_error')\n",
    "\n",
    "model.fit(X_train_norm, y_train, batch_size = 10, epochs = 10)\n",
    "\n",
    "y_pred = model.predict(X_test_norm)\n",
    "\n",
    "print('ANN Mean squared error: %.9f' % mean_squared_error(y_test, y_pred))\n",
    "print('ANN Coefficient of determination: %.9f' % r2_score(y_test, y_pred))"
   ]
  },
  {
   "cell_type": "code",
   "execution_count": null,
   "metadata": {},
   "outputs": [],
   "source": []
  }
 ],
 "metadata": {
  "kernelspec": {
   "display_name": "Python 3",
   "language": "python",
   "name": "python3"
  },
  "language_info": {
   "codemirror_mode": {
    "name": "ipython",
    "version": 3
   },
   "file_extension": ".py",
   "mimetype": "text/x-python",
   "name": "python",
   "nbconvert_exporter": "python",
   "pygments_lexer": "ipython3",
   "version": "3.7.3"
  }
 },
 "nbformat": 4,
 "nbformat_minor": 2
}
